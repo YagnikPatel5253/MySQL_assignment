{
 "cells": [
  {
   "cell_type": "markdown",
   "id": "e8f213fe-2c42-47fe-8fc5-76421db4eb53",
   "metadata": {},
   "source": [
    "Question 1"
   ]
  },
  {
   "cell_type": "raw",
   "id": "9bee63cb-ab87-48ca-9bdd-ecfa77ce3435",
   "metadata": {},
   "source": [
    "--> A database is an organized collection of data that is stored and managed in a structured manner. It provides a way to store, retrieve, and manipulate data efficiently.\n",
    "\n",
    "SQL Databases:\n",
    "\n",
    "1) Structure: SQL databases are based on a relational model and use structured tables with predefined schemas to organize data.\n",
    "2) Query language: SQL databases use SQL as their primary query language for defining and manipulating data.\n",
    "3) Scalability: SQL databases typically scale vertically by adding more resources to a single server.\n",
    "4) Data model: They enforce a fixed schema, meaning the structure of the data must be defined in advance\n",
    "\n",
    "NoSQL Databases:\n",
    "\n",
    "1) Structure: NoSQL databases are designed to handle unstructured and semi-structured data. They use various data models like key-value pairs, documents, wide-column stores, or graphs.\n",
    "2) Query language: NoSQL databases use different query languages depending on the type of database. For example, MongoDB uses a flexible JSON-based query language.\n",
    "3) Scalability: NoSQL databases are horizontally scalable, which means they can handle high volumes of traffic and data by adding more servers to a distributed system.\n",
    "4) Flexibility: NoSQL databases offer flexible schemas, allowing for dynamic changes to the data structure without requiring predefined schemas."
   ]
  },
  {
   "cell_type": "markdown",
   "id": "51110906-86e7-49b3-bceb-54f85edfe816",
   "metadata": {},
   "source": [
    "Question 2"
   ]
  },
  {
   "cell_type": "raw",
   "id": "722d4b45-83e1-4c09-aadd-c1f0ecb5e68a",
   "metadata": {},
   "source": [
    "--> DDL stands for Data Definition Language. It is a subset of SQL that is used to define and manage the structure of a database and its objects, such as tables, indexes, views, and constraints. \n",
    "\n",
    "--> CREATE: The CREATE statement is used to create new database objects, such as tables, views, indexes, or even the database itself. "
   ]
  },
  {
   "cell_type": "raw",
   "id": "bb0574a0-68e8-44c4-b7fe-89a3f99b46a1",
   "metadata": {},
   "source": [
    "CREATE TABLE Employees (\n",
    "  ID INT PRIMARY KEY,\n",
    "  Name VARCHAR(50),\n",
    "  Age INT,\n",
    "  Department VARCHAR(50)\n",
    ");"
   ]
  },
  {
   "cell_type": "raw",
   "id": "e3cb4280-e4ca-4547-a022-806b7e6e1b48",
   "metadata": {},
   "source": [
    "--> DROP: The DROP statement is used to delete existing database objects, such as tables, views, or indexes. It permanently removes the specified object and all associated data."
   ]
  },
  {
   "cell_type": "raw",
   "id": "e1ec9dfc-d5cc-49e6-8e86-9f7761437304",
   "metadata": {},
   "source": [
    "DROP TABLE Employees;"
   ]
  },
  {
   "cell_type": "raw",
   "id": "624c3dad-361d-4013-b209-541be26f6627",
   "metadata": {},
   "source": [
    "--> ALTER: The ALTER statement is used to modify the structure of existing database objects. It allows us to add, modify, or drop columns, constraints, or other properties of the object."
   ]
  },
  {
   "cell_type": "raw",
   "id": "f8caba50-74e0-4ea8-b0b2-a6d7545fd6ad",
   "metadata": {},
   "source": [
    "ALTER TABLE Employees\n",
    "ADD COLUMN Salary DECIMAL(10, 2);"
   ]
  },
  {
   "cell_type": "raw",
   "id": "ca90a038-5dae-4f85-a2df-c771ed71ecab",
   "metadata": {},
   "source": [
    "--> TRUNCATE: The TRUNCATE statement is used to remove all data from a table,TRUNCATE only removes data, not the entire table."
   ]
  },
  {
   "cell_type": "raw",
   "id": "c71dc3d1-1ba5-450a-9f93-a53c782de584",
   "metadata": {},
   "source": [
    "TRUNCATE TABLE Employees;"
   ]
  },
  {
   "cell_type": "markdown",
   "id": "2a21f1d0-f539-4b22-a96e-69b608c580bb",
   "metadata": {},
   "source": [
    "Question 3"
   ]
  },
  {
   "cell_type": "raw",
   "id": "31934883-9ef6-4dae-be18-3078f05e49bc",
   "metadata": {},
   "source": [
    "--> DML stands for Data Manipulation Language. It is a subset of SQL used to manipulate and modify data within a database."
   ]
  },
  {
   "cell_type": "raw",
   "id": "e607244c-3c69-4f8a-93db-d3eb63da93c4",
   "metadata": {},
   "source": [
    "--> INSERT: The INSERT statement is used to add new records into a table"
   ]
  },
  {
   "cell_type": "raw",
   "id": "051fc842-1189-4683-81b0-005e13c727dc",
   "metadata": {},
   "source": [
    "INSERT INTO Students (ID, Name, Age, Department)\n",
    "VALUES (1, 'Yagnik', 18, 'Computer Science');"
   ]
  },
  {
   "cell_type": "raw",
   "id": "5df2ce3d-66ad-4f2a-88da-5a553ccb0931",
   "metadata": {},
   "source": [
    "--> UPDATE: The UPDATE statement is used to modify existing records in a table. It allows us to change the values of specific columns based on certain conditions."
   ]
  },
  {
   "cell_type": "raw",
   "id": "feb32806-4429-44a0-a536-f1271df928ad",
   "metadata": {},
   "source": [
    "UPDATE Students\n",
    "SET Age = 18, Department = 'Computer Scinece'\n",
    "WHERE ID = 1;"
   ]
  },
  {
   "cell_type": "raw",
   "id": "07cc4636-25fa-405d-a4e4-749c7cc685b0",
   "metadata": {},
   "source": [
    "--> DELETE: The DELETE statement is used to remove one or more records from a table based on specified conditions."
   ]
  },
  {
   "cell_type": "raw",
   "id": "952d6a95-e056-4823-8bcf-b46c101b235d",
   "metadata": {},
   "source": [
    "DELETE FROM Students\n",
    "WHERE ID = 1;"
   ]
  },
  {
   "cell_type": "markdown",
   "id": "90cff9d3-2eef-4d14-9c4e-10eb258f2ed9",
   "metadata": {},
   "source": [
    "Question 4"
   ]
  },
  {
   "cell_type": "raw",
   "id": "86e1e51c-821d-4049-be06-3a8422901d6f",
   "metadata": {},
   "source": [
    "--> DQL stands for Data Query Language. It is a sublanguage of SQL that is used to retrieve data from a relational database.\n",
    "\n",
    "--> The SELECT statement is a fundamental component of DQL. It allows us to retrieve data from one or more database tables or views."
   ]
  },
  {
   "cell_type": "raw",
   "id": "b5a889d4-947c-4d88-956c-fe6c16646a09",
   "metadata": {},
   "source": [
    "--> to retrieve all the data from the \"employees\" table, I would write like this,"
   ]
  },
  {
   "cell_type": "raw",
   "id": "39a1b5fa-1cb5-4b3d-a74c-7e45e036cf09",
   "metadata": {},
   "source": [
    "SELECT * FROM employees;"
   ]
  },
  {
   "cell_type": "raw",
   "id": "96e4ad8a-6c1c-44e5-9b55-ea33d85f5e58",
   "metadata": {},
   "source": [
    "--> If I want to retrieve specific columns, I can list them explicitly in the SELECT statement. For example, to retrieve only the employee_id, first_name, and last_name columns."
   ]
  },
  {
   "cell_type": "raw",
   "id": "1a74670a-4720-4929-8b2d-7ce499d7f95c",
   "metadata": {},
   "source": [
    "SELECT employee_id, first_name, last_name FROM employees;"
   ]
  },
  {
   "cell_type": "markdown",
   "id": "35905e8d-ce7e-4f61-84c3-7bf17e10032d",
   "metadata": {},
   "source": [
    "Question 5"
   ]
  },
  {
   "cell_type": "raw",
   "id": "4e7279eb-c4ec-452d-b232-7dee0d06cb59",
   "metadata": {},
   "source": [
    "Primary Key:\n",
    "\n",
    "--> A primary key is a column or a set of columns in a table that uniquely identifies each row in that table\n",
    "--> Unique: Each value in the primary key column(s) must be unique. \n",
    "--> Non-null: The primary key column(s) cannot contain null values. \n",
    "--> Fixed: The primary key value(s) for a particular row should remain constant and should not change over time.\n",
    "\n",
    "Foreign Key:\n",
    "--> A foreign key is a column or a set of columns in a table that establishes a link or reference to the primary key of another table. \n",
    "--> References primary key: The foreign key column(s) references the primary key column(s) of another table.\n",
    "--> Maintains integrity: The values in the foreign key column(s) must match values in the referenced primary key column(s) or be null.\n",
    "--> Allows relationships: Foreign keys enable the establishment of relationships between tables, such as one-to-one, one-to-many, or many-to-many."
   ]
  },
  {
   "cell_type": "markdown",
   "id": "fef3bc91-5ca2-4e26-b88d-90b1986d90fb",
   "metadata": {},
   "source": [
    "Question 6"
   ]
  },
  {
   "cell_type": "raw",
   "id": "dffd7797-68ee-4bbb-ba5f-b7a6a9bc7886",
   "metadata": {},
   "source": [
    "import mysql.connector\n",
    "mydb = mysql.connector.connect(\n",
    "  host=\"localhost\",\n",
    "  user=\"abc\",\n",
    "  password=\"password\"\n",
    ")\n",
    "\n",
    "cursor = mydb.cursor()\n",
    "\n",
    "cursor.execute(\"SELECT * FROM your_table\")\n",
    "results = cursor.fetchall()\n",
    "\n",
    "for row in results:\n",
    "    print(row)\n",
    "    \n",
    "cursor.close()\n",
    "mydb.close()"
   ]
  },
  {
   "cell_type": "raw",
   "id": "ca218117-d103-4a8b-8190-5925ce5b8898",
   "metadata": {},
   "source": [
    "cursor(): The cursor() method is used to create a cursor object. The cursor object allows you to execute SQL queries and retrieve data from the database\n",
    "\n",
    "execute(): The execute() method is used to execute SQL queries or statements. It takes the SQL query as a parameter and executes it against the connected database. The method can handle various types of SQL statements like SELECT, INSERT, UPDATE, DELETE, etc."
   ]
  },
  {
   "cell_type": "markdown",
   "id": "41dad447-c960-43dc-84fb-ce8ada3d8700",
   "metadata": {},
   "source": [
    "Question 7 "
   ]
  },
  {
   "cell_type": "raw",
   "id": "283ec851-c1bf-4d72-a942-62639f8a46ab",
   "metadata": {},
   "source": [
    "FROM: Specifies the table or tables from which to retrieve data.\n",
    "JOIN: Combines rows from multiple tables based on specified join conditions.\n",
    "WHERE: Filters the rows based on specified conditions.\n",
    "GROUP BY: Groups the rows based on specified columns.\n",
    "HAVING: Filters the groups based on specified conditions.\n",
    "SELECT: Specifies the columns to retrieve from the result set.\n",
    "DISTINCT: Filters out duplicate rows from the result set.\n",
    "ORDER BY: Sorts the result set based on specified columns.\n",
    "LIMIT: Limits the number of rows returned in the result set."
   ]
  },
  {
   "cell_type": "code",
   "execution_count": null,
   "id": "5329b381-3fe6-4683-87e3-fbc5f2caf17d",
   "metadata": {},
   "outputs": [],
   "source": []
  }
 ],
 "metadata": {
  "kernelspec": {
   "display_name": "Python 3 (ipykernel)",
   "language": "python",
   "name": "python3"
  },
  "language_info": {
   "codemirror_mode": {
    "name": "ipython",
    "version": 3
   },
   "file_extension": ".py",
   "mimetype": "text/x-python",
   "name": "python",
   "nbconvert_exporter": "python",
   "pygments_lexer": "ipython3",
   "version": "3.10.8"
  }
 },
 "nbformat": 4,
 "nbformat_minor": 5
}
